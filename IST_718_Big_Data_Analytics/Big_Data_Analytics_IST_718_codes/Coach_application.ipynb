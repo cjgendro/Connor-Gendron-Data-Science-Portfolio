{
 "cells": [
  {
   "cell_type": "code",
   "execution_count": null,
   "metadata": {},
   "outputs": [],
   "source": [
    "# given field position, yard line, down, dist\n",
    "# give prob(success) >half/distance\n",
    "# give formation most likely of the successes\n",
    "# find range of yards with prediction from rf"
   ]
  },
  {
   "cell_type": "code",
   "execution_count": 38,
   "metadata": {},
   "outputs": [],
   "source": [
    "import pickle\n",
    "import pandas as pd\n",
    "import numpy as np\n",
    "from sklearn.preprocessing import MinMaxScaler # normalizing\n",
    "\n",
    "# plots\n",
    "import matplotlib.pyplot as plt\n",
    "import seaborn as sns\n",
    "import warnings\n",
    "warnings.filterwarnings(\"ignore\")\n",
    "\n",
    "# text stuff\n",
    "from termcolor import colored"
   ]
  },
  {
   "cell_type": "code",
   "execution_count": 27,
   "metadata": {},
   "outputs": [],
   "source": [
    "# load data and model\n",
    "data = pd.read_pickle('data_more.pkl')\n",
    "# trained model\n",
    "rf = pd.read_pickle('rf_model.sav')\n",
    "trainX = pd.read_pickle('trainX.pkl')\n",
    "testX = pd.read_pickle('testX.pkl')"
   ]
  },
  {
   "cell_type": "code",
   "execution_count": 28,
   "metadata": {},
   "outputs": [],
   "source": [
    "# label bins need to be in integers for neural network to get dummy variables for the label array\n",
    "bin_int = {'-10 or less':0,\n",
    "           '-9 to -4':1,\n",
    "           '-3 to -1':2,\n",
    "           '0 to 3':3,\n",
    "           '4 to 7':4,\n",
    "           '8 to 10':5,\n",
    "           '11 to 15':6,\n",
    "           '16 to 25':7,\n",
    "           '26+':8}\n",
    "data['yards_bin_int'] = data['yards_binned'].map(bin_int)\n",
    "bin_yard_names = list(bin_int.keys())\n",
    "# get labels\n",
    "bin_trainy = data.loc[data['season'] != 2019]['yards_bin_int']\n",
    "bin_testY = data.loc[data['season'] == 2019]['yards_bin_int']"
   ]
  },
  {
   "cell_type": "code",
   "execution_count": 30,
   "metadata": {},
   "outputs": [
    {
     "name": "stdout",
     "output_type": "stream",
     "text": [
      "(682154, 143)\n",
      "(509762, 15)\n",
      "(172392, 15)\n"
     ]
    }
   ],
   "source": [
    "print(data.shape)\n",
    "print(trainX.shape)\n",
    "print(testX.shape)"
   ]
  },
  {
   "cell_type": "code",
   "execution_count": 31,
   "metadata": {},
   "outputs": [],
   "source": [
    "data = data.fillna(-999)\n",
    "scaler = MinMaxScaler()\n",
    "norm_data = scaler.fit_transform(data[list(trainX.columns)])"
   ]
  },
  {
   "cell_type": "code",
   "execution_count": 32,
   "metadata": {},
   "outputs": [],
   "source": [
    "team_dict = {'ARZ': 'ARI',\n",
    "            'CLV': 'CLE',\n",
    "            'BLT':'BAL',\n",
    "            'HST':'HOU'}\n",
    "#map_abbr = {'ARI': 'ARZ', 'BAL': 'BLT', 'CLE': 'CLV', 'HOU': 'HST'}\n",
    "for abb in data['hometeamabbr'].unique():\n",
    "    team_dict[abb] = abb"
   ]
  },
  {
   "cell_type": "code",
   "execution_count": 33,
   "metadata": {},
   "outputs": [],
   "source": [
    "data['fieldposition'] = data['fieldposition'].map(team_dict)"
   ]
  },
  {
   "cell_type": "code",
   "execution_count": 241,
   "metadata": {},
   "outputs": [
    {
     "data": {
      "text/plain": [
       "array(['NE', 'KC', nan, 'BUF', 'NYJ', 'ATL', 'CHI', 'CIN', 'BAL', 'CLE',\n",
       "       'PIT', 'ARI', 'DET', 'JAX', 'HOU', 'TEN', 'OAK', 'WAS', 'PHI',\n",
       "       'LA', 'IND', 'GB', 'SEA', 'CAR', 'SF', 'DAL', 'NYG', 'NO', 'MIN',\n",
       "       'DEN', 'LAC', 'TB', 'MIA'], dtype=object)"
      ]
     },
     "execution_count": 241,
     "metadata": {},
     "output_type": "execute_result"
    }
   ],
   "source": [
    "data['fieldposition'].unique()"
   ]
  },
  {
   "cell_type": "code",
   "execution_count": 254,
   "metadata": {},
   "outputs": [
    {
     "data": {
      "text/html": [
       "<div>\n",
       "<style scoped>\n",
       "    .dataframe tbody tr th:only-of-type {\n",
       "        vertical-align: middle;\n",
       "    }\n",
       "\n",
       "    .dataframe tbody tr th {\n",
       "        vertical-align: top;\n",
       "    }\n",
       "\n",
       "    .dataframe thead th {\n",
       "        text-align: right;\n",
       "    }\n",
       "</style>\n",
       "<table border=\"1\" class=\"dataframe\">\n",
       "  <thead>\n",
       "    <tr style=\"text-align: right;\">\n",
       "      <th></th>\n",
       "      <th>gameid</th>\n",
       "      <th>playid</th>\n",
       "      <th>team</th>\n",
       "      <th>x</th>\n",
       "      <th>y</th>\n",
       "      <th>s</th>\n",
       "      <th>a</th>\n",
       "      <th>dis</th>\n",
       "      <th>orientation</th>\n",
       "      <th>dir</th>\n",
       "      <th>...</th>\n",
       "      <th>att_19</th>\n",
       "      <th>yds_19</th>\n",
       "      <th>td_19</th>\n",
       "      <th>1d_19</th>\n",
       "      <th>lng_19</th>\n",
       "      <th>y/a_19</th>\n",
       "      <th>y/g_19</th>\n",
       "      <th>fmb_19</th>\n",
       "      <th>yards_bin_int</th>\n",
       "      <th>ownside</th>\n",
       "    </tr>\n",
       "  </thead>\n",
       "  <tbody>\n",
       "  </tbody>\n",
       "</table>\n",
       "<p>0 rows × 144 columns</p>\n",
       "</div>"
      ],
      "text/plain": [
       "Empty DataFrame\n",
       "Columns: [gameid, playid, team, x, y, s, a, dis, orientation, dir, nflid, displayname, jerseynumber, season, yardline, quarter, gameclock, possessionteam, down, distance, fieldposition, homescorebeforeplay, visitorscorebeforeplay, nflidrusher, offenseformation, offensepersonnel, defendersinthebox, defensepersonnel, playdirection, timehandoff, timesnap, yards, playerheight, playerweight, playerbirthdate, playercollegename, position, hometeamabbr, visitorteamabbr, week, stadium, location, stadiumtype, turf, gameweather, temperature, humidity, windspeed, winddirection, age, time_since_snap, rusher, rushx, rushy, disttorush, teamidentity, min_distancetorusher, ol_d, dl, lb, db, rb_d, qb, ol, rb, te, wr, dl_o, lb_o, db_o, yardfromowngoal, x_standard, y_standard, runsuccess, temp, avgyardspergame, mean_yards_per_rush, x_handoff, y_handoff, 1_sec_x, 1_5_sec_x, 2_sec_x, 2_5_sec_x, 3_sec_x, 3_5_sec_x, 4_sec_x, 4_5_sec_x, 5_sec_x, 5_5_sec_x, 6_sec_x, 1_sec_y, 1_5_sec_y, 2_sec_y, 2_5_sec_y, 3_sec_y, 3_5_sec_y, 4_sec_y, 4_5_sec_y, 5_sec_y, 5_5_sec_y, ...]\n",
       "Index: []\n",
       "\n",
       "[0 rows x 144 columns]"
      ]
     },
     "execution_count": 254,
     "metadata": {},
     "output_type": "execute_result"
    }
   ],
   "source": [
    "oi = data.loc[data['ownside']==1]\n",
    "oi.loc[oi['possessionteam'] != oi['fieldposition']]"
   ]
  },
  {
   "cell_type": "code",
   "execution_count": 34,
   "metadata": {},
   "outputs": [],
   "source": [
    "# need to get a single field position variable\n",
    "data['ownside'] = 0\n",
    "data['ownside'].loc[data['possessionteam'] == data['fieldposition']] = 1 \n",
    "#data['own'] = own_field(data['possessionteam'], data['fieldposition'])\n",
    "#data[['possessionteam', 'fieldposition']].apply(own_field,axis = 1)"
   ]
  },
  {
   "cell_type": "markdown",
   "metadata": {},
   "source": [
    "## Field Function"
   ]
  },
  {
   "cell_type": "code",
   "execution_count": 183,
   "metadata": {},
   "outputs": [],
   "source": [
    "import matplotlib.patches as patches\n",
    "# los = line of scrimmage\n",
    "'''\n",
    "function defines default parameters that can be turned on/off\n",
    "returns rectangle that resembles the field\n",
    "bottom left corner is (0,0)\n",
    "\n",
    "parameters: \n",
    "    turn on/off \n",
    "        - line numbers \n",
    "        - endzones\n",
    "        - highlighted los\n",
    "        - fifty yard line as default los\n",
    "    highlight_los_number = yard line of los\n",
    "'''\n",
    "def plot_field(linenumbers = True, # show numbers on the field\n",
    "              endzones = True, # can turn endzones on/off\n",
    "              highlight_los = False, # show line of scrimmage\n",
    "              highlight_los_number = 50, # default line of scrimmage = 50\n",
    "              highlighted_name = 'Line of Scrimmage',\n",
    "              fifty_is_los = False, # use default line of scrimmage\n",
    "              figsize = (12, 5.33)): # 1/10 scale of the 120 x 53.3\n",
    "    # define the rectangle that is the field\n",
    "    field = patches.Rectangle((0,0), 120, 53.3, linewidth = 0.1,\n",
    "                             edgecolor = 'red',\n",
    "                             facecolor = 'mediumspringgreen',\n",
    "                             zorder = 0) # zorder = 0 - plot this first\n",
    "    fig, ax = plt.subplots(1, figsize = figsize)\n",
    "    # add the patch to the axes\n",
    "    ax.add_patch(field)\n",
    "    # define the field markers\n",
    "    # first list is the x-coord, second is the y-coord \n",
    "    # the map together to plot vertical lines\n",
    "    plt.plot([10, 10, 10, 20, 20, 30, 30, 40, 40, 50, 50, 60, 60, 70, 70, 80,\n",
    "              80, 90, 90, 100, 100, 110, 110, 120, 0, 0, 120, 120], \n",
    "            [0, 0, 53.3, 53.3, 0, 0, 53.3, 53.3, 0, 0, 53.3, 53.3, 0, 0, 53.3,\n",
    "              53.3, 0, 0, 53.3, 53.3, 0, 0, 53.3, 53.3, 53.3, 0, 0, 53.3],\n",
    "            color = 'white')    \n",
    "    # check for line of scrimmage\n",
    "    if fifty_is_los:\n",
    "        plt.plot([60,60], [0, 53.3], color = 'gold')\n",
    "        plt.text(62, 50, '<- Line of Scrimmage', color = 'gold')\n",
    "    # color the endzones so they stand out, if set to True\n",
    "    if endzones:\n",
    "        endzone1 = patches.Rectangle((0,0), 10, 53.3, # left endzone\n",
    "                                    linewidth = 0.1,\n",
    "                                    edgecolor = 'red',\n",
    "                                    facecolor = 'gray', # color of endzone\n",
    "                                    alpha = 0.8, # transparency\n",
    "                                    zorder = 0)\n",
    "        endzone2 = patches.Rectangle((110,0), 120, 53.3, # right endzone\n",
    "                                    linewidth = 0.1,\n",
    "                                    edgecolor = 'red',\n",
    "                                    facecolor = 'gray',\n",
    "                                    alpha = 0.8,\n",
    "                                    zorder = 0)\n",
    "        # add the patches to the endzones\n",
    "        ax.add_patch(endzone1)\n",
    "        ax.add_patch(endzone2)\n",
    "        # set plot limits for the field\n",
    "        plt.xlim(0, 120)\n",
    "        plt.ylim(-5, 58.3) # a little extra padding on top and bottom\n",
    "        plt.axis('off')\n",
    "        # line numbers = True\n",
    "        if linenumbers:\n",
    "            for x in range(20, 110, 10): # start at the goalline and end on the goalline\n",
    "                number = x\n",
    "                # start with 20,30... once we get to midfield count backward\n",
    "                if x > 50:\n",
    "                    number = 120 - x\n",
    "                # bottom numbers\n",
    "                plt.text(x, 5, str(number - 10),\n",
    "                        horizontalalignment = 'center',\n",
    "                        fontsize = 12,\n",
    "                        color = 'white')\n",
    "                # top numbers\n",
    "                plt.text(x - 0.95, 53.3 - 5, str(number - 10), # numbers are kind of off\n",
    "                        horizontalalignment = 'center',\n",
    "                        fontsize = 12,\n",
    "                        color = 'white',\n",
    "                        rotation = 180) # turn upside down to mimic a real field\n",
    "    # set hash marks for middle of field and sidelines\n",
    "    if endzones:\n",
    "        hash_range = range(11, 110)\n",
    "    else:\n",
    "        hash_range = range(0, 120)\n",
    "    # print the hash marks on each yard line\n",
    "    for x in hash_range:\n",
    "        ax.plot([x, x], [0.4, 0.7], color = 'white') #bottom sideline\n",
    "        ax.plot([x, x], [53.0, 52.5], color = 'white') #top sideline\n",
    "        ax.plot([x, x], [22.91, 23.57], color = 'white') # right hash - middle of field\n",
    "        ax.plot([x, x], [29.73, 30.59], color = 'white') # left hash - middle of field\n",
    "    # if highlight_los = True \n",
    "    if highlight_los:\n",
    "        if highlight_los_number < 50:\n",
    "            h1 = highlight_los_number + 10# account for the endzone\n",
    "        else:\n",
    "            h1 = highlight_los_number\n",
    "        plt.plot([h1, h1], [0, 53.3], \n",
    "                 color = 'gold') # define from bottom to top\n",
    "        plt.text(h1 + 2, 3.3, '<- {}'.format(highlighted_name), \n",
    "                 color = 'gold')\n",
    "    \n",
    "    return fig, ax"
   ]
  },
  {
   "cell_type": "code",
   "execution_count": 184,
   "metadata": {},
   "outputs": [
    {
     "data": {
      "text/plain": [
       "(<Figure size 864x383.76 with 1 Axes>,\n",
       " <matplotlib.axes._subplots.AxesSubplot at 0x1a2419ed10>)"
      ]
     },
     "execution_count": 184,
     "metadata": {},
     "output_type": "execute_result"
    },
    {
     "data": {
      "image/png": "[encoded data removed]",
      "text/plain": [
       "<Figure size 864x383.76 with 1 Axes>"
      ]
     },
     "metadata": {
      "needs_background": "light"
     },
     "output_type": "display_data"
    }
   ],
   "source": [
    "plot_field()"
   ]
  },
  {
   "cell_type": "markdown",
   "metadata": {},
   "source": [
    "## Plot Play Info Function"
   ]
  },
  {
   "cell_type": "code",
   "execution_count": 297,
   "metadata": {},
   "outputs": [],
   "source": [
    "def plot_info(ownside, yardline, down, distance, avg_yards, longest_run):\n",
    "    '''\n",
    "    want to plot on the field\n",
    "    1. line of scrimmage\n",
    "    2. first down marker\n",
    "    3. avg yds gained\n",
    "    '''\n",
    "    # find the line of scrimmage\n",
    "    if ownside == 1:\n",
    "        los = yardline + 10\n",
    "        first_down = los + distance\n",
    "        los_x = los - 2\n",
    "        #text_fd = yardline + distance\n",
    "        #text_avg = int(yardline + avg_yards)\n",
    "        if first_down > 50:\n",
    "            text_fd = 100 - yardline - distance\n",
    "        else:\n",
    "            text_fd = yardline + distance\n",
    "        if yardline + avg_yards > 50: \n",
    "            text_avg = int(100 - yardline - avg_yards)\n",
    "        else:\n",
    "            text_avg = int(yardline + avg_yards)\n",
    "        if yardline + longest_run > 50: \n",
    "            text_lr = 100 - yardline - longest_run\n",
    "        else:\n",
    "            text_lr = yardline + longest_run\n",
    "            \n",
    "    else:\n",
    "        los = 110 - yardline\n",
    "        first_down = los + distance\n",
    "        text_fd = yardline - distance\n",
    "        text_avg = int(yardline - avg_yards)\n",
    "        text_lr = int(yardline - longest_run)\n",
    "        los_x = los - 2\n",
    "    \n",
    "    # set axes\n",
    "    fig, ax = plot_field()    \n",
    "    \n",
    "    # plot line of scrimmage\n",
    "    plt.vlines(x = los, ymin = 0, ymax = 53.3, \n",
    "               color = 'black', linestyle = 'dashed',\n",
    "              zorder = 1)\n",
    "    plt.text(x = los_x, y = 50,\n",
    "            s = 'Line of Scrimmage ({}) -->'.format(yardline), \n",
    "             color = 'black', size = 15, horizontalalignment = 'right')\n",
    "    # plot first down line\n",
    "    plt.vlines(x = first_down, ymin = 0, ymax = 53.3,\n",
    "              color = 'olive',\n",
    "              zorder = 1)\n",
    "    plt.text(x = first_down + 2, y = 26,\n",
    "            s = '<-- First Down ({})'.format(text_fd), \n",
    "             color = 'olive', size = 15)\n",
    "    # plot avg yards gained\n",
    "    plt.vlines(x = los + avg_yards, ymin = 0, ymax = 53.3,\n",
    "              color = 'darkred',\n",
    "              zorder = 1)\n",
    "    plt.text(x = los + avg_yards + 1/2, y = 15,\n",
    "            s = '<-- Avg Result ({})\\n {} yds'.format(text_avg, avg_yards), \n",
    "             color = 'darkred', size = 15)\n",
    "    # plot longest run bar\n",
    "    longest_run_bar = patches.Rectangle((los, 40), longest_run,\n",
    "                                       5, linewidth = 0.1,\n",
    "                                       edgecolor = 'crimson',\n",
    "                                       facecolor = 'crimson',\n",
    "                                       alpha = 1,\n",
    "                                       zorder = 1)\n",
    "    ax.add_patch(longest_run_bar)\n",
    "    plt.text(x = los + longest_run + 2,\n",
    "            y = 39, s = '({}) \\n{} yds'.format(text_lr, longest_run),\n",
    "            color = 'crimson', size = 15)\n",
    "    plt.show()\n",
    "    "
   ]
  },
  {
   "cell_type": "code",
   "execution_count": 298,
   "metadata": {},
   "outputs": [],
   "source": [
    "#from collections import defaultdict, Counter # for the model\n",
    "\n",
    "def play_to_choose():\n",
    "    # check that down input is valid\n",
    "    down = input('Enter the down of the play (1 - 4): ')\n",
    "    try:\n",
    "        down = int(down)\n",
    "        if (down <= 4) and (down >= 1):\n",
    "            down = down\n",
    "        else:\n",
    "            return print(colored('Psyche! Please enter a valid down', 'red'))\n",
    "    except:\n",
    "        return print(colored('Psyche! Please enter a valid down.', 'red'))\n",
    "    # check that distance is valid\n",
    "    distance = input('Enter the distance for a first down as an integer(1 - 99): ')\n",
    "    try:\n",
    "        distance = int(distance)\n",
    "    except:\n",
    "        return print(colored('Psyche! Please enter a valid distance.', 'red'))\n",
    "    # check that ownside is valid\n",
    "    ownside = input('Are you on your side of the field? (Y/N): ')\n",
    "    try:\n",
    "        if (ownside == 'Y') or (ownside == 'y'):\n",
    "            ownside = 1\n",
    "        elif (ownside == 'N') or (ownside == 'n'):\n",
    "            ownside = 0\n",
    "        else:\n",
    "            return print(colored('Psyche! Please enter a Y or N.', 'red'))\n",
    "    except:\n",
    "        return print(colored('Psyche! Please enter a Y or N.', 'red'))\n",
    "    # check yardline is valid\n",
    "    yardline = input('Enter the yardline as an integer(1 - 50): ')\n",
    "    try:\n",
    "        yardline = int(yardline)\n",
    "    except:\n",
    "        return print(colored('Sike! Please enter a valid yardline.', 'red'))\n",
    "    \n",
    "    \n",
    "    print('\\nThanks for your input. Finding likely scenarios...')\n",
    "    # check the scenario is in the data\n",
    "    \n",
    "    #try:\n",
    "    df = data[(data['down'] == down)&(data['ownside'] == ownside)&(data['yardline'] == yardline)&(data['distance'] == distance)]       \n",
    "    if df.shape[0] == 0:\n",
    "        return print(colored('Those play conditions are not in our data.', 'red'))\n",
    "    # normalize for prediction\n",
    "    rf_df = scaler.fit_transform(df[list(trainX.columns)])\n",
    "    \n",
    "    #except:\n",
    "     #   if df.shape[0] == 0:\n",
    "      #      return print('Those play conditions are not in our data.')\n",
    "    # predict yards with random forest\n",
    "    y_pred = rf.predict(rf_df)\n",
    "    for rng, bucket in bin_int.items():\n",
    "        if bucket == y_pred[0]:\n",
    "            pred = rng\n",
    "    # get some play metrics\n",
    "    runsuccess_prob = round(df['runsuccess'].sum()/len(df)*100,2)\n",
    "    avg_yards = round(df['yards'].mean(),2)\n",
    "    off_form = df['offenseformation'].value_counts().index[0]\n",
    "    off_pers = df['offensepersonnel'].value_counts().index[0]\n",
    "    # first down freq\n",
    "    first = 0\n",
    "    # td freq\n",
    "    td = 0\n",
    "    # loss of yards\n",
    "    loss = 0\n",
    "    # long run >13.5 yds\n",
    "    long = 0\n",
    "    for index, row in df.iterrows():\n",
    "        if row['distance'] <= row['yards']:\n",
    "            first += 1\n",
    "        if (100 - row['yardfromowngoal']) <= row['yards']:\n",
    "            td += 1\n",
    "        if row['yards'] < 0:\n",
    "            loss += 1\n",
    "        if row['yards'] > 13.5:\n",
    "            long += 1\n",
    "    # first down probability\n",
    "    first_pct = round(first/len(df)*100,2)\n",
    "    # touchdown probability\n",
    "    td_pct = round(td/len(df)*100,2)\n",
    "    # loss probability\n",
    "    loss_pct = round(loss/len(df)*100,2)\n",
    "    # long run probability\n",
    "    long_pct = round(long/len(df)*100,2)\n",
    "    # result of the play\n",
    "    if distance <= avg_yards:\n",
    "        if ownside == 1:\n",
    "        #df['possessionteam'].tolist()[0] != play_info['fieldposition'].tolist()[0]:\n",
    "            result = 'Firstdown'\n",
    "            new_dist = 10\n",
    "        else:\n",
    "            if yardline <= avg_yards:\n",
    "                result = 'Touchdown'\n",
    "                new_dist = 'Extra point'\n",
    "            \n",
    "            else:\n",
    "                result = 'Firstdown'\n",
    "                new_dist = 10\n",
    "    else:\n",
    "        result = str(df['down'].tolist()[0] + 1) + ' down'\n",
    "        new_dist = df['distance'].tolist()[0] - int(avg_yards)\n",
    "    # get longest run\n",
    "    longest_run = max(df['yards'])\n",
    "    # get colors - green = good, red = bad\n",
    "    if avg_yards <= 3:\n",
    "        yard_color = 'red'\n",
    "    else:\n",
    "        yard_color = 'green'\n",
    "    if result == '4 down':\n",
    "        result_color = 'red'\n",
    "    else:\n",
    "        result_color = 'green'\n",
    "    try:\n",
    "        if new_dist >= 7:\n",
    "            new_dist_color = 'red'\n",
    "        else:\n",
    "            new_dist_color = 'green'\n",
    "    except:\n",
    "        new_dist_color = 'green'\n",
    "    if longest_run <= 10:\n",
    "        lr_color = 'red'\n",
    "    else:\n",
    "        lr_color = 'green'\n",
    "    \n",
    "    print('\\nSample Size: ', colored(len(df)//22, 'blue'), 'plays')\n",
    "    print('\\nPredicted Yards Gained: ', colored(pred, 'blue'))\n",
    "    print('\\nLongest Run: ', colored(longest_run,lr_color), colored('yards', lr_color))\n",
    "    #print('\\nLikelihood of gaining half the required yards: ', runsuccess_prob, '%')\n",
    "    #print('\\nLikelihood of a first down: ', first_pct, '%')\n",
    "    #print('\\nLikelihood of a touchdown: ', td_pct, '%')\n",
    "    print('\\nAverage Yards Gained: ', colored(avg_yards, yard_color))\n",
    "    print('\\nMost Common Offensive Formation: ', colored(off_form, 'blue'))\n",
    "    print('\\nMost Common Offensive Personnel: ', colored(off_pers, 'blue'))\n",
    "    print('\\nMost Common Play Result: ', colored(result, result_color))\n",
    "    print('\\nDistance to First Down: ', colored(new_dist, new_dist_color))\n",
    "    names = ['Run Success', 'First Down', 'TD', 'Long Run (>13.5)','Loss of Yards']\n",
    "    stats = pd.DataFrame([runsuccess_prob, first_pct, td_pct ,long_pct, loss_pct], columns = ['stats'])\n",
    "    stats['names'] = names\n",
    "    sns.barplot(x = 'names', y = 'stats', data = stats, \n",
    "                color = 'tab:blue')\n",
    "    for i in np.arange(2):\n",
    "        plt.text(x = i,\n",
    "                y = stats['stats'][i]-4,\n",
    "                s = str(stats['stats'][i]) + '%',\n",
    "                color = 'white',\n",
    "                horizontalalignment='center')\n",
    "    for i in np.arange(2,5):\n",
    "        plt.text(x = i,\n",
    "                y = stats['stats'][i]+2,\n",
    "                s = str(stats['stats'][i]) + '%',\n",
    "                horizontalalignment='center')\n",
    "    plt.xlabel('Play Outcomes')\n",
    "    plt.xticks(rotation = 30)\n",
    "    plt.ylabel('')\n",
    "    plt.ylim(0, max(stats['stats']) + 10)\n",
    "    plt.title('Likelihood of Play Outcomes')\n",
    "    plot_info(ownside, yardline, down, distance, avg_yards, longest_run)\n",
    "    #print(df.loc[df['yards'] == max(df['yards'])][['possessionteam', 'fieldposition', 'yards', 'playdirection']])\n",
    "    #return stats.head()"
   ]
  },
  {
   "cell_type": "markdown",
   "metadata": {},
   "source": [
    "# Interactive for Coaches\n",
    "1. Press Shift+Enter to run the command below\n",
    "2. Follow the prompts, pressing enter after each input\n",
    "3. Enjoy the results!"
   ]
  },
  {
   "cell_type": "code",
   "execution_count": 305,
   "metadata": {},
   "outputs": [
    {
     "name": "stdout",
     "output_type": "stream",
     "text": [
      "Enter the down of the play (1 - 4): 2\n",
      "Enter the distance for a first down as an integer(1 - 99): 7\n",
      "Are you on your side of the field? (Y/N): n\n",
      "Enter the yardline as an integer(1 - 50): 26\n",
      "\n",
      "Thanks for your input. Finding likely scenarios...\n",
      "\n",
      "Sample Size:  \u001b[34m11\u001b[0m plays\n",
      "\n",
      "Predicted Yards Gained:  \u001b[34m0 to 3\u001b[0m\n",
      "\n",
      "Longest Run:  \u001b[32m13\u001b[0m \u001b[32myards\u001b[0m\n",
      "\n",
      "Average Yards Gained:  \u001b[32m4.18\u001b[0m\n",
      "\n",
      "Most Common Offensive Formation:  \u001b[34mSINGLEBACK\u001b[0m\n",
      "\n",
      "Most Common Offensive Personnel:  \u001b[34m1 RB, 2 TE, 2 WR\u001b[0m\n",
      "\n",
      "Most Common Play Result:  \u001b[32m3 down\u001b[0m\n",
      "\n",
      "Distance to First Down:  \u001b[32m3\u001b[0m\n"
     ]
    },
    {
     "data": {
      "image/png": "[encoded data removed]",
      "text/plain": [
       "<Figure size 432x288 with 1 Axes>"
      ]
     },
     "metadata": {
      "needs_background": "light"
     },
     "output_type": "display_data"
    },
    {
     "data": {
      "image/png": "[encoded data removed]",
      "text/plain": [
       "<Figure size 864x383.76 with 1 Axes>"
      ]
     },
     "metadata": {
      "needs_background": "light"
     },
     "output_type": "display_data"
    }
   ],
   "source": [
    "play_to_choose() \n"
   ]
  },
  {
   "cell_type": "code",
   "execution_count": null,
   "metadata": {},
   "outputs": [],
   "source": []
  }
 ],
 "metadata": {
  "kernelspec": {
   "display_name": "Python 3",
   "language": "python",
   "name": "python3"
  },
  "language_info": {
   "codemirror_mode": {
    "name": "ipython",
    "version": 3
   },
   "file_extension": ".py",
   "mimetype": "text/x-python",
   "name": "python",
   "nbconvert_exporter": "python",
   "pygments_lexer": "ipython3",
   "version": "3.7.6"
  }
 },
 "nbformat": 4,
 "nbformat_minor": 4
}
