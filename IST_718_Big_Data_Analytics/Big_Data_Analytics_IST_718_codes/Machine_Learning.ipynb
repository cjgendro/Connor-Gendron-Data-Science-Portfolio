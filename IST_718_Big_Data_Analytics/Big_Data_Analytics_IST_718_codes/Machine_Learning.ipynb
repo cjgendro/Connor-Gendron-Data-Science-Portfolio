{
 "cells": [
  {
   "cell_type": "code",
   "execution_count": 121,
   "metadata": {},
   "outputs": [],
   "source": [
    "import pickle\n",
    "import pandas as pd\n",
    "import numpy as np\n",
    "# plots\n",
    "import seaborn as sns\n",
    "import matplotlib.pyplot as plt\n",
    "# Random Forest\n",
    "from sklearn.ensemble import RandomForestClassifier\n",
    "from sklearn.inspection import permutation_importance # feature importance"
   ]
  },
  {
   "cell_type": "code",
   "execution_count": 34,
   "metadata": {},
   "outputs": [],
   "source": [
    "data = pd.read_pickle('data.pkl copy')"
   ]
  },
  {
   "cell_type": "code",
   "execution_count": 35,
   "metadata": {},
   "outputs": [
    {
     "data": {
      "text/plain": [
       "gameid                                  int64\n",
       "playid                                  int64\n",
       "team                                   object\n",
       "x                                     float64\n",
       "y                                     float64\n",
       "s                                     float64\n",
       "a                                     float64\n",
       "dis                                   float64\n",
       "orientation                           float64\n",
       "dir                                   float64\n",
       "nflid                                   int64\n",
       "displayname                            object\n",
       "jerseynumber                            int64\n",
       "season                                  int64\n",
       "yardline                                int64\n",
       "quarter                                 int64\n",
       "gameclock                              object\n",
       "possessionteam                         object\n",
       "down                                    int64\n",
       "distance                                int64\n",
       "fieldposition                          object\n",
       "homescorebeforeplay                     int64\n",
       "visitorscorebeforeplay                  int64\n",
       "nflidrusher                             int64\n",
       "offenseformation                       object\n",
       "offensepersonnel                       object\n",
       "defendersinthebox                     float64\n",
       "defensepersonnel                       object\n",
       "playdirection                          object\n",
       "timehandoff               datetime64[ns, UTC]\n",
       "timesnap                  datetime64[ns, UTC]\n",
       "yards                                   int64\n",
       "playerheight                            int64\n",
       "playerweight                            int64\n",
       "playerbirthdate                datetime64[ns]\n",
       "playercollegename                      object\n",
       "position                               object\n",
       "hometeamabbr                           object\n",
       "visitorteamabbr                        object\n",
       "week                                    int64\n",
       "stadium                                object\n",
       "location                               object\n",
       "stadiumtype                           float64\n",
       "turf                                   object\n",
       "gameweather                            object\n",
       "temperature                           float64\n",
       "humidity                              float64\n",
       "windspeed                             float64\n",
       "winddirection                          object\n",
       "age                                     int64\n",
       "time_since_snap                         int64\n",
       "rusher                                  int64\n",
       "rushx                                 float64\n",
       "rushy                                 float64\n",
       "disttorush                            float64\n",
       "teamidentity                           object\n",
       "min_distancetorusher                  float64\n",
       "ol_d                                    int64\n",
       "dl                                      int64\n",
       "lb                                      int64\n",
       "db                                      int64\n",
       "rb_d                                    int64\n",
       "qb                                      int64\n",
       "ol                                     object\n",
       "rb                                      int64\n",
       "te                                      int64\n",
       "wr                                      int64\n",
       "dl_o                                    int64\n",
       "lb_o                                    int64\n",
       "db_o                                    int64\n",
       "yardfromowngoal                         int64\n",
       "x_standard                            float64\n",
       "y_standard                            float64\n",
       "runsuccess                              int64\n",
       "temp                                   object\n",
       "avgyardspergame                       float64\n",
       "mean_yards_per_rush                   float64\n",
       "x_handoff                             float64\n",
       "y_handoff                             float64\n",
       "1_sec_x                               float64\n",
       "1_5_sec_x                             float64\n",
       "2_sec_x                               float64\n",
       "2_5_sec_x                             float64\n",
       "3_sec_x                               float64\n",
       "3_5_sec_x                             float64\n",
       "4_sec_x                               float64\n",
       "4_5_sec_x                             float64\n",
       "5_sec_x                               float64\n",
       "5_5_sec_x                             float64\n",
       "6_sec_x                               float64\n",
       "1_sec_y                               float64\n",
       "1_5_sec_y                             float64\n",
       "2_sec_y                               float64\n",
       "2_5_sec_y                             float64\n",
       "3_sec_y                               float64\n",
       "3_5_sec_y                             float64\n",
       "4_sec_y                               float64\n",
       "4_5_sec_y                             float64\n",
       "5_sec_y                               float64\n",
       "5_5_sec_y                             float64\n",
       "6_sec_y                               float64\n",
       "offense                                 int64\n",
       "eff_downfield_acc                     float64\n",
       "eff_crossfield_acc                    float64\n",
       "rushteamwinning                         int64\n",
       "playerblocked                           int64\n",
       "total_playersblocked                    int64\n",
       "dtype: object"
      ]
     },
     "execution_count": 35,
     "metadata": {},
     "output_type": "execute_result"
    }
   ],
   "source": [
    "pd.set_option('max_rows', 110)\n",
    "data.dtypes"
   ]
  },
  {
   "cell_type": "markdown",
   "metadata": {},
   "source": [
    "## Most machine learning algorithms require numeric data\n",
    " - convert object and string variables to numeric\n",
    " - use dummy variables"
   ]
  },
  {
   "cell_type": "code",
   "execution_count": 37,
   "metadata": {},
   "outputs": [],
   "source": [
    "## convert the game clock to seconds\n",
    "def strtoseconds(txt):\n",
    "    # get the different parts of the time\n",
    "    txt = txt.split(':')\n",
    "    # new time will be in seconds\n",
    "    # minutes * 60 + seconds + microseconds/60\n",
    "    new_time = int(txt[0])*60 + int(txt[1]) + int(txt[2])/60\n",
    "    return new_time\n",
    "data['gameclock'] = data['gameclock'].apply(strtoseconds)"
   ]
  },
  {
   "cell_type": "code",
   "execution_count": 47,
   "metadata": {},
   "outputs": [],
   "source": [
    "# convert ol ot integer\n",
    "data['ol'] = data['ol'].astype(int)"
   ]
  },
  {
   "cell_type": "code",
   "execution_count": 45,
   "metadata": {},
   "outputs": [],
   "source": [
    "cols_to_keep = ['team',\n",
    " 's',\n",
    " 'a',\n",
    " 'dis',\n",
    " 'orientation',\n",
    " 'dir',\n",
    " 'season',\n",
    " 'yardline',\n",
    " 'quarter',\n",
    " 'gameclock',\n",
    " 'possessionteam',\n",
    " 'down',\n",
    " 'distance',\n",
    " 'fieldposition',\n",
    " 'homescorebeforeplay',\n",
    " 'visitorscorebeforeplay',\n",
    " 'offenseformation',\n",
    " 'offensepersonnel',\n",
    " 'defendersinthebox',\n",
    " 'defensepersonnel',\n",
    " 'yards', # this is the target variable - remove this for the test set\n",
    " 'playerheight',\n",
    " 'playerweight',\n",
    " 'playercollegename',\n",
    " 'position',\n",
    " 'hometeamabbr',\n",
    " 'visitorteamabbr',\n",
    " 'week',\n",
    " 'age',\n",
    " 'time_since_snap',\n",
    " 'rusher',\n",
    " 'rushx',\n",
    " 'rushy',\n",
    " 'disttorush',\n",
    " 'teamidentity',\n",
    " 'min_distancetorusher',\n",
    " 'ol_d',\n",
    " 'dl',\n",
    " 'lb',\n",
    " 'db',\n",
    " 'rb_d',\n",
    " 'qb',\n",
    " 'ol',\n",
    " 'rb',\n",
    " 'te',\n",
    " 'wr',\n",
    " 'dl_o',\n",
    " 'lb_o',\n",
    " 'db_o',\n",
    " 'yardfromowngoal',\n",
    " 'x_standard',\n",
    " 'y_standard',\n",
    " 'avgyardspergame',\n",
    " 'x_handoff',\n",
    " 'y_handoff',\n",
    " '1_sec_x',\n",
    " '1_5_sec_x',\n",
    " '2_sec_x',\n",
    " '2_5_sec_x',\n",
    " '3_sec_x',\n",
    " '3_5_sec_x',\n",
    " '4_sec_x',\n",
    " '4_5_sec_x',\n",
    " '5_sec_x',\n",
    " '5_5_sec_x',\n",
    " '6_sec_x',\n",
    " '1_sec_y',\n",
    " '1_5_sec_y',\n",
    " '2_sec_y',\n",
    " '2_5_sec_y',\n",
    " '3_sec_y',\n",
    " '3_5_sec_y',\n",
    " '4_sec_y',\n",
    " '4_5_sec_y',\n",
    " '5_sec_y',\n",
    " '5_5_sec_y',\n",
    " '6_sec_y',\n",
    " 'offense',\n",
    " 'eff_downfield_acc',\n",
    " 'eff_crossfield_acc',\n",
    " 'rushteamwinning',\n",
    " 'playerblocked',\n",
    " 'total_playersblocked']"
   ]
  },
  {
   "cell_type": "code",
   "execution_count": 50,
   "metadata": {},
   "outputs": [
    {
     "data": {
      "text/plain": [
       "(682154, 687)"
      ]
     },
     "execution_count": 50,
     "metadata": {},
     "output_type": "execute_result"
    }
   ],
   "source": [
    "### Get dummy variables for categorical variables (object type)\n",
    "num_data = data[cols_to_keep]\n",
    "num_data = pd.get_dummies(num_data)"
   ]
  },
  {
   "cell_type": "code",
   "execution_count": 91,
   "metadata": {},
   "outputs": [
    {
     "name": "stdout",
     "output_type": "stream",
     "text": [
      "# of Train Plays: 23171   # of Test Plays: 7836\n",
      "# of Train Labels: 23171  # of Test Labels: 7836\n",
      "All Plays Covered: True\n"
     ]
    }
   ],
   "source": [
    "## use 2017 and 2018 to predict 2019\n",
    "\n",
    "# input variables\n",
    "trainX = num_data.loc[num_data['season'] != 2019]\n",
    "testX = num_data.loc[num_data['season'] == 2019]\n",
    "# labels\n",
    "trainY = trainX['yards']\n",
    "testY = testX['yards']\n",
    "# drop labels from input variables\n",
    "#trainX.drop('yards', axis = 1, inplace = True)\n",
    "#trainY.drop('yards', axis = 1, inplace = True)\n",
    "\n",
    "print('# of Train Plays: {}   # of Test Plays: {}'.format(int(trainX.shape[0]/22), int(testX.shape[0]/22)))\n",
    "print('# of Train Labels: {}  # of Test Labels: {}'.format(int(trainY.shape[0]/22), int(testY.shape[0]/22)))\n",
    "print('All Plays Covered: {}'.format(trainX.shape[0] + testY.shape[0] == num_data.shape[0]))"
   ]
  },
  {
   "cell_type": "code",
   "execution_count": 103,
   "metadata": {},
   "outputs": [
    {
     "data": {
      "text/plain": [
       "count    682154.000000\n",
       "mean          4.227626\n",
       "std           6.449866\n",
       "min         -15.000000\n",
       "25%           1.000000\n",
       "50%           3.000000\n",
       "75%           6.000000\n",
       "max          99.000000\n",
       "Name: yards, dtype: float64"
      ]
     },
     "execution_count": 103,
     "metadata": {},
     "output_type": "execute_result"
    }
   ],
   "source": [
    "# Bin the yards\n",
    "data['yards'].describe()"
   ]
  },
  {
   "cell_type": "code",
   "execution_count": null,
   "metadata": {},
   "outputs": [],
   "source": []
  },
  {
   "cell_type": "code",
   "execution_count": 101,
   "metadata": {},
   "outputs": [
    {
     "name": "stdout",
     "output_type": "stream",
     "text": [
      "(44000, 686) (44000,)\n",
      "(22000, 686) (22000,)\n"
     ]
    },
    {
     "name": "stderr",
     "output_type": "stream",
     "text": [
      "/opt/anaconda3/lib/python3.7/site-packages/pandas/core/frame.py:3997: SettingWithCopyWarning: \n",
      "A value is trying to be set on a copy of a slice from a DataFrame\n",
      "\n",
      "See the caveats in the documentation: https://pandas.pydata.org/pandas-docs/stable/user_guide/indexing.html#returning-a-view-versus-a-copy\n",
      "  errors=errors,\n"
     ]
    }
   ],
   "source": [
    "## get subsets (1000 plays) to test models\n",
    "# get 2017\n",
    "df17 = num_data.loc[num_data['season'] == 2017]\n",
    "df18 = num_data.loc[num_data['season'] == 2018]\n",
    "df17.index = range(len(df17))\n",
    "df18.index = range(len(df18))\n",
    "sub17 = df17[:22000]\n",
    "sub18 = df18[:22000]\n",
    "sub_trainX = pd.concat([sub17, sub18])\n",
    "sub_trainY = sub_trainX['yards']\n",
    "sub_testX = testX[:22000]\n",
    "sub_testY = sub_testX['yards']\n",
    "# drop the target variable\n",
    "sub_trainX.drop('yards', axis = 1, inplace = True)\n",
    "sub_testX.drop('yards', axis = 1, inplace = True)\n",
    "print(sub_trainX.shape, sub_trainY.shape)\n",
    "print(sub_testX.shape, sub_testY.shape)\n",
    "# delete temporary dfs\n",
    "del df17, df18, sub17, sub18"
   ]
  },
  {
   "cell_type": "markdown",
   "metadata": {},
   "source": [
    "# Random Forest\n",
    "_requires numeric values_ <br>\n",
    "https://scikit-learn.org/stable/modules/generated/sklearn.ensemble.RandomForestClassifier.html"
   ]
  },
  {
   "cell_type": "code",
   "execution_count": 102,
   "metadata": {},
   "outputs": [
    {
     "name": "stdout",
     "output_type": "stream",
     "text": [
      "0.11836363636363637\n"
     ]
    }
   ],
   "source": [
    "rf = RandomForestClassifier(n_estimators = 100, # number of trees\n",
    "                           min_samples_split = 3,\n",
    "                           oob_score = True)\n",
    "rf.fit(sub_trainX, sub_trainY)\n",
    "print(rf.score(sub_testX, sub_testY))"
   ]
  },
  {
   "cell_type": "code",
   "execution_count": 137,
   "metadata": {},
   "outputs": [
    {
     "data": {
      "image/png": "[encoded data removed]",
      "text/plain": [
       "<Figure size 720x504 with 1 Axes>"
      ]
     },
     "metadata": {
      "needs_background": "light"
     },
     "output_type": "display_data"
    },
    {
     "name": "stdout",
     "output_type": "stream",
     "text": [
      "Features\n",
      "rushy                          0.039440\n",
      "gameclock                      0.038659\n",
      "rushx                          0.038404\n",
      "yardfromowngoal                0.036173\n",
      "yardline                       0.034851\n",
      "min_distancetorusher           0.034692\n",
      "total_playersblocked           0.026030\n",
      "visitorscorebeforeplay         0.024839\n",
      "homescorebeforeplay            0.023700\n",
      "distance                       0.022683\n",
      "quarter                        0.020524\n",
      "avgyardspergame                0.020087\n",
      "x_standard                     0.019321\n",
      "defendersinthebox              0.019019\n",
      "1_sec_x                        0.016668\n",
      "down                           0.015774\n",
      "x_handoff                      0.014592\n",
      "1_5_sec_x                      0.013741\n",
      "time_since_snap                0.012061\n",
      "2_sec_x                        0.011216\n",
      "offenseformation_SINGLEBACK    0.010671\n",
      "dl                             0.010324\n",
      "te                             0.010252\n",
      "lb                             0.010174\n",
      "wr                             0.010131\n",
      "dtype: float64\n"
     ]
    }
   ],
   "source": [
    "## Print n most important features\n",
    "n = 25\n",
    "plt.figure(figsize = (10, 7))\n",
    "# impurity-based feature importance\n",
    "importances = pd.Series(rf.feature_importances_, index = sub_trainX.columns)\n",
    "# sort values in descending order\n",
    "importances = importances.sort_values(ascending = False)\n",
    "# horizontal barplot\n",
    "importances.nlargest(25).plot(kind = 'barh')\n",
    "plt.title('25 Most Important Features for Random Forest')\n",
    "plt.ylabel('Feature')\n",
    "plt.show()\n",
    "print('Features')\n",
    "print(importances[:25])"
   ]
  },
  {
   "cell_type": "code",
   "execution_count": 134,
   "metadata": {},
   "outputs": [
    {
     "data": {
      "text/plain": [
       "array([11, 10,  8,  6,  9,  7,  4,  5,  2,  3,  1, 12])"
      ]
     },
     "execution_count": 134,
     "metadata": {},
     "output_type": "execute_result"
    }
   ],
   "source": [
    "data['total_playersblocked'].unique()"
   ]
  },
  {
   "cell_type": "code",
   "execution_count": null,
   "metadata": {},
   "outputs": [],
   "source": []
  }
 ],
 "metadata": {
  "kernelspec": {
   "display_name": "Python 3",
   "language": "python",
   "name": "python3"
  },
  "language_info": {
   "codemirror_mode": {
    "name": "ipython",
    "version": 3
   },
   "file_extension": ".py",
   "mimetype": "text/x-python",
   "name": "python",
   "nbconvert_exporter": "python",
   "pygments_lexer": "ipython3",
   "version": "3.7.6"
  }
 },
 "nbformat": 4,
 "nbformat_minor": 4
}
