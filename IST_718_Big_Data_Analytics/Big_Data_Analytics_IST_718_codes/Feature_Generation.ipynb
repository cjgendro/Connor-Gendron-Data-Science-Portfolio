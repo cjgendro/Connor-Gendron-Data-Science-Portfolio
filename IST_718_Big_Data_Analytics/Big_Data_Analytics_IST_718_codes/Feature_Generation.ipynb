{
 "cells": [
  {
   "cell_type": "markdown",
   "metadata": {},
   "source": [
    "### feature generation notebook "
   ]
  },
  {
   "cell_type": "code",
   "execution_count": 3,
   "metadata": {},
   "outputs": [],
   "source": [
    "import pandas as pd\n",
    "import numpy as np\n",
    "import re\n",
    "import warnings; warnings.simplefilter('ignore')\n",
    "import math\n",
    "from multiprocessing import Pool, cpu_count"
   ]
  },
  {
   "cell_type": "code",
   "execution_count": 4,
   "metadata": {},
   "outputs": [],
   "source": [
    "# This dataset can be downloaded from https://www.kaggle.com/c/nfl-big-data-bowl-2020/data after an agreement is digitally signed through kaggle. \n",
    "data = pd.read_csv('train.csv')\n",
    "# set all columns to lower\n",
    "data.columns = map(str.lower, data.columns)"
   ]
  },
  {
   "cell_type": "markdown",
   "metadata": {},
   "source": [
    "#### Player height feature"
   ]
  },
  {
   "cell_type": "code",
   "execution_count": 5,
   "metadata": {},
   "outputs": [],
   "source": [
    "# create function to convert playerHeight to inches\n",
    "def heightToInches(x):\n",
    "    try:\n",
    "        x,x1 = x.split('-')\n",
    "        x = int(x)\n",
    "        x1 = int(x1)\n",
    "        x = (12*x) + x1\n",
    "        return(x)\n",
    "    except:\n",
    "        return int(x*12)"
   ]
  },
  {
   "cell_type": "code",
   "execution_count": 6,
   "metadata": {},
   "outputs": [],
   "source": [
    "# run function over column\n",
    "data[\"playerheight\"] = data[\"playerheight\"].apply(heightToInches)"
   ]
  },
  {
   "cell_type": "code",
   "execution_count": 7,
   "metadata": {},
   "outputs": [],
   "source": [
    "# convert TimeHandoff to dates and times\n",
    "data['timehandoff'] = pd.to_datetime(data['timehandoff'])\n",
    "data['timesnap'] = pd.to_datetime(data['timesnap'])\n",
    "data['playerbirthdate'] = pd.to_datetime(data[\"playerbirthdate\"])"
   ]
  },
  {
   "cell_type": "markdown",
   "metadata": {},
   "source": [
    "#### player age"
   ]
  },
  {
   "cell_type": "code",
   "execution_count": 8,
   "metadata": {},
   "outputs": [],
   "source": [
    "# generate age of each player\n",
    "def birthDayCalc(df):\n",
    "    birthDay = df[0].year\n",
    "    timeHandoff = df[1].year\n",
    "    age = (timeHandoff - birthDay) \n",
    "    return age\n",
    "data[\"age\"] = data[[\"playerbirthdate\",\"timehandoff\"]].apply(birthDayCalc, axis=1)"
   ]
  },
  {
   "cell_type": "markdown",
   "metadata": {},
   "source": [
    "#### time since snap in seconds"
   ]
  },
  {
   "cell_type": "code",
   "execution_count": 9,
   "metadata": {},
   "outputs": [],
   "source": [
    "# find time from snap to handoff\n",
    "def time_since_snap(df):\n",
    "    handoff = df[0]\n",
    "    snap = df[1]\n",
    "    time = df[0] - df[1]\n",
    "    return time.seconds\n",
    "data['time_since_snap'] = data[['timehandoff', 'timesnap']].apply(time_since_snap, axis = 1)"
   ]
  },
  {
   "cell_type": "markdown",
   "metadata": {},
   "source": [
    "#### windspeed"
   ]
  },
  {
   "cell_type": "code",
   "execution_count": 10,
   "metadata": {},
   "outputs": [],
   "source": [
    "# convert windspeed\n",
    "def windConvert(x):\n",
    "    try:\n",
    "        x = re.match('[0-9]+',x)\n",
    "        x = x.groups()\n",
    "        for i in x:\n",
    "            y += i\n",
    "            return(y)\n",
    "    except:\n",
    "        return(x)\n",
    "data[\"windspeed\"] = data[\"windspeed\"].apply(windConvert)"
   ]
  },
  {
   "cell_type": "markdown",
   "metadata": {},
   "source": [
    "#### oreintation and direction"
   ]
  },
  {
   "cell_type": "code",
   "execution_count": 11,
   "metadata": {},
   "outputs": [],
   "source": [
    "# create functions to fix oreintation and direction\n",
    "# Refrenced this notebook to help understand how to modify https://www.kaggle.com/ben519/understanding-x-y-dir-and-orientation\n",
    "def fixDir(x):\n",
    "    y = (360-x+90) % 360\n",
    "    return y\n",
    "def fixOri(x):\n",
    "    y = (360-x) % 360\n",
    "    return y"
   ]
  },
  {
   "cell_type": "code",
   "execution_count": 12,
   "metadata": {},
   "outputs": [],
   "source": [
    "# apply oreintation fix\n",
    "data[\"orientation\"][data[\"season\"] == 2017] = data[\"orientation\"][data[\"season\"] == 2017].apply(fixOri)\n",
    "# apply direction fix\n",
    "data[\"dir\"] = data[\"dir\"].apply(fixDir)"
   ]
  },
  {
   "cell_type": "markdown",
   "metadata": {},
   "source": [
    "#### distance to the rusher"
   ]
  },
  {
   "cell_type": "code",
   "execution_count": 13,
   "metadata": {},
   "outputs": [],
   "source": [
    "# create a rusher dummy variable\n",
    "data['rusher'] = 0\n",
    "data['rusher'][data['nflid'] == data['nflidrusher']] = 1# create a rusher dummy variable\n"
   ]
  },
  {
   "cell_type": "code",
   "execution_count": 14,
   "metadata": {},
   "outputs": [],
   "source": [
    "# get Rusher X and Y\n",
    "pos_df = pd.DataFrame(zip(data['x'][data['rusher'] == 1], data['y'][data['rusher'] == 1]), columns = ['x', 'y'])"
   ]
  },
  {
   "cell_type": "code",
   "execution_count": 15,
   "metadata": {},
   "outputs": [],
   "source": [
    "posdf = pd.DataFrame(zip(pos_df['x'].repeat(22), pos_df['y'].repeat(22)), index = range(len(data)), columns = ['rushx', 'rushy'])\n",
    "# put the rushX and rushY in the main df\n",
    "data['rushx'] = posdf['rushx']\n",
    "data['rushy'] = posdf['rushy']\n",
    "del posdf"
   ]
  },
  {
   "cell_type": "code",
   "execution_count": 16,
   "metadata": {},
   "outputs": [],
   "source": [
    "# euclidean dist = sqrt((x1 - x2)^2 + (y1 - y2)^2) - straight line distance\n",
    "data['disttorush'] = np.sqrt((data['x'] - data['rushx'])**2 + (data['y'] - data['rushy'])**2)\n"
   ]
  },
  {
   "cell_type": "markdown",
   "metadata": {},
   "source": [
    "####  Team name for each player"
   ]
  },
  {
   "cell_type": "code",
   "execution_count": 17,
   "metadata": {},
   "outputs": [],
   "source": [
    "def teamIdentitySet(x):\n",
    "    if x[\"team\"] == \"home\":\n",
    "        return x[\"hometeamabbr\"]\n",
    "    else:\n",
    "        return x[\"visitorteamabbr\"]\n",
    "# applying function entire data df\n",
    "data[\"teamidentity\"] = data.apply(teamIdentitySet, axis=1)"
   ]
  },
  {
   "cell_type": "markdown",
   "metadata": {},
   "source": [
    "#### min distance from defender to rusher by play"
   ]
  },
  {
   "cell_type": "code",
   "execution_count": 18,
   "metadata": {},
   "outputs": [],
   "source": [
    "# create attribute for minimum defensive player from runningback\n",
    "def minDistanceFromDef(x):\n",
    "    # get playid \n",
    "    x = x[\"playid\"]\n",
    "    # return back only play with that id\n",
    "    x = data[data[\"playid\"] == x]\n",
    "    # Return back minmimum distance of players not on rusher team\n",
    "    x = min(x[\"disttorush\"][x[\"teamidentity\"] != x[\"possessionteam\"]])\n",
    "    return x\n",
    "data[\"min_distancetorusher\"]=data.apply(minDistanceFromDef,axis=1)"
   ]
  },
  {
   "cell_type": "markdown",
   "metadata": {},
   "source": [
    "#### match home, vistior and possession team abbreviation "
   ]
  },
  {
   "cell_type": "code",
   "execution_count": 19,
   "metadata": {},
   "outputs": [
    {
     "output_type": "stream",
     "name": "stdout",
     "text": "ARI ARZ\nBAL BLT\nCLE CLV\nHOU HST\n"
    }
   ],
   "source": [
    "# find teams with mismatched abbreviations\n",
    "for home_abbr, pos_abbr in zip(sorted(data['hometeamabbr'].unique()),\n",
    "                                     sorted(data['possessionteam'].unique())):\n",
    "    if home_abbr != pos_abbr:\n",
    "        print(home_abbr + ' ' + pos_abbr )\n",
    "\n",
    "# define a mapping to fix these\n",
    "def map_abbr(df):\n",
    "    '''\n",
    "    input: dataframe\n",
    "    function: fixes incorrect abbreviations in possession team\n",
    "    returns: correct abbreviations\n",
    "    '''\n",
    "    home_abbr = df['hometeamabbr']\n",
    "    pos_abbr = df['possessionteam']\n",
    "    if home_abbr != pos_abbr:\n",
    "        pos_abbr = home_abbr\n",
    "    return pos_abbr\n",
    "\n",
    "data['possessionteam'] = data.apply(map_abbr, axis = 1)"
   ]
  },
  {
   "cell_type": "markdown",
   "metadata": {},
   "source": [
    "#### stadium type"
   ]
  },
  {
   "cell_type": "code",
   "execution_count": 20,
   "metadata": {},
   "outputs": [],
   "source": [
    "# Transform stadium type\n",
    "def clean_stad_type(txt):\n",
    "    if pd.isna(txt):\n",
    "        return np.nan\n",
    "    txt = txt.lower()\n",
    "    #txt = ''.join([c for c in txt if c not in punctuation])\n",
    "    txt = re.sub(' +', ' ', txt)\n",
    "    txt = txt.strip()\n",
    "    txt = txt.replace('outside', 'outdoor')\n",
    "    txt = txt.replace('outdor', 'outdoor')\n",
    "    txt = txt.replace('outddors', 'outdoor')\n",
    "    txt = txt.replace('outdoors', 'outdoor')\n",
    "    txt = txt.replace('oudoor', 'outdoor')\n",
    "    txt = txt.replace('indoors', 'indoor')\n",
    "    txt = txt.replace('ourdoor', 'outdoor')\n",
    "    txt = txt.replace('retractable', 'rtr.')\n",
    "    return txt\n",
    "data['stadiumtype'] = data['stadiumtype'].apply(clean_stad_type)"
   ]
  },
  {
   "cell_type": "code",
   "execution_count": 21,
   "metadata": {},
   "outputs": [],
   "source": [
    "# focus only on outdoor, indoor, open, and closed\n",
    "def num_stad_type(txt):\n",
    "    if pd.isna(txt):\n",
    "        return np.nan\n",
    "    if 'outdoor' in txt or 'open' in txt:\n",
    "        return 1\n",
    "    if 'indoor' in txt or 'closed' in txt:\n",
    "        return 0\n",
    "    # else\n",
    "    return np.nan\n",
    "\n",
    "data['stadiumtype'] = data['stadiumtype'].apply(num_stad_type)"
   ]
  },
  {
   "cell_type": "markdown",
   "metadata": {},
   "source": [
    "#### offensive and defensive personnel counts "
   ]
  },
  {
   "cell_type": "code",
   "execution_count": 22,
   "metadata": {},
   "outputs": [],
   "source": [
    "# count defensive position\n",
    "# differentiate defensive ol and offensive ol - JM\n",
    "data[\"ol_d\"] = data[\"defensepersonnel\"].str.extract(pat=\"([1-9] OL)\")\n",
    "data[\"ol_d\"] = data[\"ol_d\"].str.extract(pat=\"([1-9])\")\n",
    "data[\"dl\"] = data[\"defensepersonnel\"].str.extract(pat=\"([1-9] DL)\")\n",
    "data[\"dl\"] = data[\"dl\"].str.extract(pat=\"([1-9])\")\n",
    "data[\"lb\"] = data[\"defensepersonnel\"].str.extract(pat=\"([1-9] LB)\")\n",
    "data[\"lb\"] = data[\"lb\"].str.extract(pat=\"([1-9])\")\n",
    "data[\"db\"] = data[\"defensepersonnel\"].str.extract(pat=\"([1-9] DB)\")\n",
    "data[\"db\"] = data[\"db\"].str.extract(pat=\"([1-9])\")\n",
    "\n",
    "# differentiate defensive rb and offensive rb - JM\n",
    "data[\"rb_d\"] = data[\"defensepersonnel\"].str.extract(pat=\"([1-9] RB)\")\n",
    "data[\"rb_d\"] = data[\"rb_d\"].str.extract(pat=\"([1-9])\")\n",
    "\n",
    "# count offensive position\n",
    "# QB, OL, RB, TE, WR, DL, LB, DB\n",
    "data['qb'] = data['offensepersonnel'].str.extract(pat='([1-9] QB)')\n",
    "data['qb'] = data['qb'].str.extract(pat='([1-9])')\n",
    "data['ol'] = data['offensepersonnel'].str.extract(pat='([1-9] OL)')\n",
    "data['ol'] = data['ol'].str.extract(pat='([1-9])')\n",
    "data['rb'] = data['offensepersonnel'].str.extract(pat='(\\d RB)')\n",
    "data['rb'] = data['rb'].str.extract(pat='(\\d)')\n",
    "data['te'] = data['offensepersonnel'].str.extract(pat='(\\d TE)')\n",
    "data['te'] = data['te'].str.extract(pat='(\\d)')\n",
    "data['wr'] = data['offensepersonnel'].str.extract(pat='(\\d WR)')\n",
    "data['wr'] = data['wr'].str.extract(pat='(\\d)')\n",
    "\n",
    "# differentiate offensive dl \n",
    "data['dl_o'] = data['offensepersonnel'].str.extract(pat='(\\d DL)')\n",
    "data['dl_o'] = data['dl_o'].str.extract(pat='(\\d)')\n",
    "data['lb_o'] = data['offensepersonnel'].str.extract(pat='(\\d LB)')\n",
    "data['lb_o'] = data['lb_o'].str.extract(pat='(\\d)')\n",
    "data['db_o'] = data['offensepersonnel'].str.extract(pat='(\\d DB)')\n",
    "data['db_o'] = data['db_o'].str.extract(pat='(\\d)')\n",
    "\n",
    "# replace nas with 0\n",
    "data['ol'].fillna(0, inplace = True)\n",
    "data['dl'].fillna(0, inplace = True)\n",
    "data['db'].fillna(0, inplace = True)\n",
    "data['lb'].fillna(0, inplace = True)\n",
    "data['rb'].fillna(0, inplace = True)\n",
    "data['ol_d'].fillna(0, inplace = True)\n",
    "data['rb_d'].fillna(0, inplace = True)\n",
    "data['te'].fillna(0, inplace = True)\n",
    "data['wr'].fillna(0, inplace = True)\n",
    "data['dl_o'].fillna(0, inplace = True)\n",
    "data['lb_o'].fillna(0, inplace = True)\n",
    "data['db_o'].fillna(0, inplace = True)\n",
    "\n",
    "# replace qb nas with 1 - WILDCAT has a qb, but the ball is snapped to someone else - JM\n",
    "data['qb'].fillna(1, inplace = True)\n",
    "\n",
    "# set ol == 0 to be 11 - sum(offensive personnel)\n",
    "off = ['rb', 'qb', 'te', 'wr', 'dl_o', 'lb_o', 'db_o'] \n",
    "data[off] = data[off].astype(str).astype(int)\n",
    "data['ol'][data['ol'] == 0] = 11 - data[off].sum(axis = 1)\n",
    "\n",
    "# convert rest of personnel to int\n",
    "defp = ['dl', 'lb', 'rb_d', 'ol_d', 'db']\n",
    "data[defp] = data[defp].astype(str).astype(int)\n",
    "\n",
    "# fill lb na with 11 - sum(everyone else on defense)\n",
    "data['lb'][data['lb'] == 0] = 11 - data[defp].sum(axis = 1)# count defensive position\n",
    "# differentiate defensive ol and offensive ol - JM\n",
    "data[\"ol_d\"] = data[\"defensepersonnel\"].str.extract(pat=\"([1-9] OL)\")\n",
    "data[\"ol_d\"] = data[\"ol_d\"].str.extract(pat=\"([1-9])\")\n",
    "data[\"dl\"] = data[\"defensepersonnel\"].str.extract(pat=\"([1-9] DL)\")\n",
    "data[\"dl\"] = data[\"dl\"].str.extract(pat=\"([1-9])\")\n",
    "data[\"lb\"] = data[\"defensepersonnel\"].str.extract(pat=\"([1-9] LB)\")\n",
    "data[\"lb\"] = data[\"lb\"].str.extract(pat=\"([1-9])\")\n",
    "data[\"db\"] = data[\"defensepersonnel\"].str.extract(pat=\"([1-9] DB)\")\n",
    "data[\"db\"] = data[\"db\"].str.extract(pat=\"([1-9])\")\n",
    "\n",
    "# differentiate defensive rb and offensive rb - JM\n",
    "data[\"rb_d\"] = data[\"defensepersonnel\"].str.extract(pat=\"([1-9] RB)\")\n",
    "data[\"rb_d\"] = data[\"rb_d\"].str.extract(pat=\"([1-9])\")\n",
    "\n",
    "# count offensive position\n",
    "# QB, OL, RB, TE, WR, DL, LB, DB\n",
    "data['qb'] = data['offensepersonnel'].str.extract(pat='([1-9] QB)')\n",
    "data['qb'] = data['qb'].str.extract(pat='([1-9])')\n",
    "data['ol'] = data['offensepersonnel'].str.extract(pat='([1-9] OL)')\n",
    "data['ol'] = data['ol'].str.extract(pat='([1-9])')\n",
    "data['rb'] = data['offensepersonnel'].str.extract(pat='(\\d RB)')\n",
    "data['rb'] = data['rb'].str.extract(pat='(\\d)')\n",
    "data['te'] = data['offensepersonnel'].str.extract(pat='(\\d TE)')\n",
    "data['te'] = data['te'].str.extract(pat='(\\d)')\n",
    "data['wr'] = data['offensepersonnel'].str.extract(pat='(\\d WR)')\n",
    "data['wr'] = data['wr'].str.extract(pat='(\\d)')\n",
    "\n",
    "# differentiate offensive dl \n",
    "data['dl_o'] = data['offensepersonnel'].str.extract(pat='(\\d DL)')\n",
    "data['dl_o'] = data['dl_o'].str.extract(pat='(\\d)')\n",
    "data['lb_o'] = data['offensepersonnel'].str.extract(pat='(\\d LB)')\n",
    "data['lb_o'] = data['lb_o'].str.extract(pat='(\\d)')\n",
    "data['db_o'] = data['offensepersonnel'].str.extract(pat='(\\d DB)')\n",
    "data['db_o'] = data['db_o'].str.extract(pat='(\\d)')\n",
    "\n",
    "# replace nas with 0\n",
    "data['ol'].fillna(0, inplace = True)\n",
    "data['dl'].fillna(0, inplace = True)\n",
    "data['db'].fillna(0, inplace = True)\n",
    "data['lb'].fillna(0, inplace = True)\n",
    "data['rb'].fillna(0, inplace = True)\n",
    "data['ol_d'].fillna(0, inplace = True)\n",
    "data['rb_d'].fillna(0, inplace = True)\n",
    "data['te'].fillna(0, inplace = True)\n",
    "data['wr'].fillna(0, inplace = True)\n",
    "data['dl_o'].fillna(0, inplace = True)\n",
    "data['lb_o'].fillna(0, inplace = True)\n",
    "data['db_o'].fillna(0, inplace = True)\n",
    "\n",
    "# replace qb nas with 1 - WILDCAT has a qb, but the ball is snapped to someone else - JM\n",
    "data['qb'].fillna(1, inplace = True)\n",
    "\n",
    "# set ol == 0 to be 11 - sum(offensive personnel)\n",
    "off = ['rb', 'qb', 'te', 'wr', 'dl_o', 'lb_o', 'db_o'] \n",
    "data[off] = data[off].astype(str).astype(int)\n",
    "data['ol'][data['ol'] == 0] = 11 - data[off].sum(axis = 1)\n",
    "\n",
    "# convert rest of personnel to int\n",
    "defp = ['dl', 'lb', 'rb_d', 'ol_d', 'db']\n",
    "data[defp] = data[defp].astype(str).astype(int)\n",
    "\n",
    "# fill lb na with 11 - sum(everyone else on defense)\n",
    "data['lb'][data['lb'] == 0] = 11 - data[defp].sum(axis = 1)"
   ]
  },
  {
   "cell_type": "markdown",
   "metadata": {},
   "source": [
    "#### yards from own goal"
   ]
  },
  {
   "cell_type": "code",
   "execution_count": 23,
   "metadata": {},
   "outputs": [],
   "source": [
    "def createYardsFromOwnGoal(x):\n",
    "    # if the ball is on the possession teams side, just return yardline\n",
    "    if x[\"fieldposition\"] == x[\"possessionteam\"]:\n",
    "        return x[\"yardline\"]\n",
    "    else:\n",
    "    # if the ball is not on the possesion team side, convert\n",
    "        return (50 + (50-x[\"yardline\"]))\n",
    "data[\"yardfromowngoal\"] = data.apply(createYardsFromOwnGoal,axis = 1)"
   ]
  },
  {
   "cell_type": "markdown",
   "metadata": {},
   "source": [
    "#### standardize cooridnates - all plays will have a direction from left to right"
   ]
  },
  {
   "cell_type": "code",
   "execution_count": 24,
   "metadata": {},
   "outputs": [],
   "source": [
    "# standardize coordinates so all plays are left to right (playdirection = right)\n",
    "def standardizeXCoordinates(x):\n",
    "    if x[\"playdirection\"] == \"left\":\n",
    "        return 120 - x[\"x\"] \n",
    "    else:\n",
    "        return x[\"x\"] \n",
    "def standardizeYCoordinates(x):\n",
    "    if x[\"playdirection\"] == \"left\":\n",
    "        return 160/3 - x[\"y\"]\n",
    "    else:\n",
    "        return x[\"y\"]\n",
    "data[\"x_standard\"] = data.apply(standardizeXCoordinates,axis=1)\n",
    "data[\"y_standard\"] = data.apply(standardizeYCoordinates,axis=1)"
   ]
  },
  {
   "cell_type": "markdown",
   "metadata": {},
   "source": [
    "#### Run success , sucess being gain of half yards to first down"
   ]
  },
  {
   "cell_type": "code",
   "execution_count": 25,
   "metadata": {},
   "outputs": [],
   "source": [
    "def runSuccess(x):\n",
    "    x = x[\"playid\"]\n",
    "    x = data[data[\"playid\"] == x]\n",
    "    if sum(x[\"yards\"])/22 >= sum(x[\"distance\"])/22/2:\n",
    "        return 1\n",
    "    else:\n",
    "        return 0\n",
    "runSuccessLookup = data.drop_duplicates(subset=[\"playid\"])\n",
    "runSuccessLookup[\"runsuccess\"] = runSuccessLookup.apply(runSuccess,axis=1)\n",
    "data = data.merge(runSuccessLookup[['playid','runsuccess']],on='playid', how='left')\n",
    "del runSuccessLookup"
   ]
  },
  {
   "cell_type": "markdown",
   "metadata": {},
   "source": [
    "#### average yards gained by team each game (prior name MeanPerGame)\n"
   ]
  },
  {
   "cell_type": "code",
   "execution_count": 26,
   "metadata": {},
   "outputs": [],
   "source": [
    "def averageYardsPerGame(x):\n",
    "    game = data[data[\"gameid\"]== x[\"gameid\"]]\n",
    "    team = game[game[\"teamidentity\"]==x[\"teamidentity\"]]\n",
    "    x_return = team[\"yards\"].mean()\n",
    "    return x_return\n",
    "\n",
    "avgYardsLookup = data\n",
    "avgYardsLookup[\"temp\"] = avgYardsLookup[\"gameid\"].astype(str)+ avgYardsLookup[\"teamidentity\"]\n",
    "avgYardsLookup = avgYardsLookup.drop_duplicates(subset=[\"temp\"])\n",
    "\n",
    "avgYardsLookup[\"avgyardspergame\"] = avgYardsLookup[[\"gameid\",\"teamidentity\"]].apply(averageYardsPerGame,axis=1)\n",
    "data = data.merge(avgYardsLookup[[\"gameid\",\"teamidentity\",\"avgyardspergame\"]],how='left',left_on=[\"gameid\",\"teamidentity\"],right_on=[\"gameid\",\"teamidentity\"])\n",
    "del avgYardsLookup"
   ]
  },
  {
   "cell_type": "markdown",
   "metadata": {},
   "source": [
    "#### mean yards per attempt... by season"
   ]
  },
  {
   "cell_type": "code",
   "execution_count": 27,
   "metadata": {},
   "outputs": [],
   "source": [
    "#### Mean Yards per Attempt (by Season)\n",
    "# get each season\n",
    "df17 = data.loc[data['season'] == 2017]\n",
    "df18 = data.loc[data['season'] == 2018]\n",
    "df19 = data.loc[data['season'] == 2019]\n",
    "\n",
    "# get avg yards per attempt by team\n",
    "avg_yards_17 = df17.groupby('possessionteam')['yards'].mean()\n",
    "avg_yards_18 = df18.groupby('possessionteam')['yards'].mean()\n",
    "avg_yards_19 = df19.groupby('possessionteam')['yards'].mean()\n",
    "\n",
    "# get a list of teams\n",
    "team_list = list(data['teamidentity'].unique())\n",
    "\n",
    "del df17, df18, df19#### Mean Yards per Attempt (by Season)\n",
    "# get each season\n",
    "df17 = data.loc[data['season'] == 2017]\n",
    "df18 = data.loc[data['season'] == 2018]\n",
    "df19 = data.loc[data['season'] == 2019]\n",
    "\n",
    "# get avg yards per attempt by team\n",
    "avg_yards_17 = df17.groupby('possessionteam')['yards'].mean()\n",
    "avg_yards_18 = df18.groupby('possessionteam')['yards'].mean()\n",
    "avg_yards_19 = df19.groupby('possessionteam')['yards'].mean()\n",
    "\n",
    "# get a list of teams\n",
    "team_list = list(data['teamidentity'].unique())\n",
    "\n",
    "del df17, df18, df19"
   ]
  },
  {
   "cell_type": "markdown",
   "metadata": {},
   "source": [
    "#### average yards per rush attempt by season"
   ]
  },
  {
   "cell_type": "code",
   "execution_count": 28,
   "metadata": {},
   "outputs": [],
   "source": [
    "# average yards per rush attempt for each team for each season\n",
    "def mean_ypa(df):\n",
    "    '''\n",
    "    input: dataframe\n",
    "    operation: map the mean yards per attempt of each team and season\n",
    "    returns: mean yards per attempt for that team in that season\n",
    "    '''\n",
    "    for team in team_list:\n",
    "        # 2017 season\n",
    "        if (df['teamidentity'] == team) & (df['season'] == 2017):\n",
    "            ypa = avg_yards_17[team]\n",
    "        # 2018 season\n",
    "        elif (df['teamidentity'] == team) & (df['season'] == 2018):\n",
    "            ypa = avg_yards_18[team]\n",
    "        # 2019 season\n",
    "        elif (df['teamidentity'] == team) & (df['season'] == 2019):\n",
    "            ypa = avg_yards_19[team]\n",
    "        else:\n",
    "            continue\n",
    "        \n",
    "        return ypa\n",
    "data['mean_yards_per_rush'] = data.apply(mean_ypa, axis = 1)"
   ]
  },
  {
   "cell_type": "markdown",
   "metadata": {},
   "source": [
    "#### future play position "
   ]
  },
  {
   "cell_type": "code",
   "execution_count": 38,
   "metadata": {},
   "outputs": [],
   "source": [
    "# get future x coordinate\n",
    "def future_x(df,t):\n",
    "    '''\n",
    "    input: df - designed to be used with apply()\n",
    "    calculates: new x coordinate with speed, acceleration, and direction\n",
    "    Returns: new x-coordinate\n",
    "    '''\n",
    "    if t != \"missing\":\n",
    "        # distance traveled = speed(time) + (acceleration/2)(time)^2\n",
    "        distance = df['s']*t + df['a']/2*t**2 \n",
    "        # delta x = cos(direction)  convert to radians\n",
    "        dx = distance * math.cos(math.radians(df['dir'])) \n",
    "        # future = initial position + change\n",
    "        new_x = df['x_standard'] + dx\n",
    "        # can't have coordinates outside the boundaries\n",
    "        if new_x < 0:\n",
    "            new_x = 0\n",
    "        elif new_x > 120:\n",
    "            new_x = 120\n",
    "        return new_x\n",
    "    else:\n",
    "        # distance traveled = speed(time) + (acceleration/2)(time)^2\n",
    "        distance = df['s']*df['time_since_snap'] + df['a']/2*df['time_since_snap']**2 \n",
    "        # delta x = cos(direction)  convert to radians\n",
    "        dx = distance * math.cos(math.radians(df['dir'])) \n",
    "        # future = initial position + change\n",
    "        new_x = df['x_standard'] + dx\n",
    "        # can't have coordinates outside the boundaries\n",
    "        if new_x < 0:\n",
    "            new_x = 0\n",
    "        elif new_x > 120:\n",
    "            new_x = 120\n",
    "        return new_x\n",
    "# get future y coordinate\n",
    "def future_y(df,t):\n",
    "    '''\n",
    "    input: df - designed to be used with apply()\n",
    "    calculates: new y coordinate with speed, acceleration, and direction\n",
    "    Returns: new y-coordinate\n",
    "    '''\n",
    "    if t != \"missing\":\n",
    "        # distance traveled = speed(time) + (acceleration/2)(time)^2\n",
    "        distance = df['s']*t + df['a']/2*t**2 \n",
    "        # delta y = sin(direction)  convert to radians\n",
    "        dy = distance * math.sin(math.radians(df['dir'])) \n",
    "        # future = initial position + change \n",
    "        new_y = df['y_standard'] + dy\n",
    "        # can't have coordinates outside the boundaries\n",
    "        if new_y < 0:\n",
    "            new_y = 0\n",
    "        elif new_y > 53.3:\n",
    "            new_y = 53.3\n",
    "        return new_y\n",
    "    else:\n",
    "        # distance traveled = speed(time) + (acceleration/2)(time)^2\n",
    "        distance = df['s']*df['time_since_snap'] + df['a']/2*df['time_since_snap']**2 \n",
    "        # delta y = sin(direction)  convert to radians\n",
    "        dy = distance * math.sin(math.radians(df['dir'])) \n",
    "        # future = initial position + change \n",
    "        new_y = df['y_standard'] + dy\n",
    "        # can't have coordinates outside the boundaries\n",
    "        if new_y < 0:\n",
    "            new_y = 0\n",
    "        elif new_y > 53.3:\n",
    "            new_y = 53.3\n",
    "        return new_y"
   ]
  },
  {
   "cell_type": "code",
   "execution_count": 39,
   "metadata": {},
   "outputs": [],
   "source": [
    "#apply functions for time since snap\n",
    "p = Pool(os.cpu_count())\n",
    "data['x_handoff'] = data.apply(future_x, axis = 1, t=\"missing\") #50 represents time_since_snap\n",
    "p.close()\n",
    "p.join()\n",
    "p = Pool(os.cpu_count())\n",
    "data['y_handoff'] = data.apply(future_y, axis = 1, t=\"missing\") #50 represents time_since_snap\n",
    "p.close()\n",
    "p.join()"
   ]
  },
  {
   "cell_type": "code",
   "execution_count": 31,
   "metadata": {},
   "outputs": [],
   "source": [
    "# apply functions\n",
    "p = Pool(os.cpu_count())\n",
    "data[\"1_sec_x\"] = data.apply(future_x,axis=1,t=1)\n",
    "data[\"1_5_sec_x\"] = data.apply(future_x,axis=1,t=1.5)\n",
    "data[\"2_sec_x\"] = data.apply(future_x,axis=1,t=2)\n",
    "data[\"2_5_sec_x\"] = data.apply(future_x,axis=1,t=2.5)\n",
    "data[\"3_sec_x\"] = data.apply(future_x,axis=1,t=3.0)\n",
    "data[\"3_5_sec_x\"] = data.apply(future_x,axis=1,t=3.5)\n",
    "data[\"4_sec_x\"] = data.apply(future_x,axis=1,t=4)\n",
    "data[\"4_5_sec_x\"] = data.apply(future_x,axis=1,t=4.5)\n",
    "data[\"5_sec_x\"] = data.apply(future_x,axis=1,t=5)\n",
    "data[\"5_5_sec_x\"] = data.apply(future_x,axis=1,t=5.5)\n",
    "data[\"6_sec_x\"] = data.apply(future_x,axis=1,t=6)\n",
    "p.close()\n",
    "p.join()\n"
   ]
  },
  {
   "cell_type": "code",
   "execution_count": 32,
   "metadata": {},
   "outputs": [],
   "source": [
    "# apply functions\n",
    "p = Pool(os.cpu_count())\n",
    "data[\"1_sec_y\"] = data.apply(future_y,axis=1,t=1)\n",
    "data[\"1_5_sec_y\"] = data.apply(future_y,axis=1,t=1.5)\n",
    "data[\"2_sec_y\"] = data.apply(future_y,axis=1,t=2)\n",
    "data[\"2_5_sec_y\"] = data.apply(future_y,axis=1,t=2.5)\n",
    "data[\"3_sec_y\"] = data.apply(future_y,axis=1,t=3.0)\n",
    "data[\"3_5_sec_y\"] = data.apply(future_y,axis=1,t=3.5)\n",
    "data[\"4_sec_y\"] = data.apply(future_y,axis=1,t=4)\n",
    "data[\"4_5_sec_y\"] = data.apply(future_y,axis=1,t=4.5)\n",
    "data[\"5_sec_y\"] = data.apply(future_y,axis=1,t=5)\n",
    "data[\"5_5_sec_y\"] = data.apply(future_y,axis=1,t=5.5)\n",
    "data[\"6_sec_y\"] = data.apply(future_y,axis=1,t=6)\n",
    "p.close()\n",
    "p.join()\n"
   ]
  },
  {
   "cell_type": "code",
   "execution_count": 33,
   "metadata": {},
   "outputs": [
    {
     "output_type": "execute_result",
     "data": {
      "text/plain": "       gameid          playid  team      x      y     s     a   dis  \\\n0  2017090700  20170907000118  away  73.91  34.84  1.69  1.13  0.40   \n1  2017090700  20170907000118  away  74.67  32.64  0.42  1.35  0.01   \n2  2017090700  20170907000118  away  74.00  33.20  1.22  0.59  0.31   \n3  2017090700  20170907000118  away  71.46  27.70  0.42  0.54  0.02   \n4  2017090700  20170907000118  away  69.32  35.42  1.82  2.43  0.16   \n\n   orientation     dir  ...  1_5_sec_y    2_sec_y  2_5_sec_y    3_sec_y  \\\n0       278.01  272.82  ...  14.691693  12.860163  10.746476   8.350631   \n1       332.39  251.30  ...  18.658015  17.340209  15.702719  13.745546   \n2       356.99  247.27  ...  17.833258  16.794477  15.619652  14.308782   \n3         0.23  344.36  ...  25.299713  25.115716  24.895325  24.638538   \n4       347.37  285.69  ...  12.653168   9.730052   6.222072   2.129228   \n\n   3_5_sec_y    4_sec_y  4_5_sec_y    5_sec_y  5_5_sec_y    6_sec_y  \n0   5.672628   2.712467   0.000000   0.000000   0.000000   0.000000  \n1  11.468689   8.872149   5.955925   2.720018   0.000000   0.000000  \n2  12.861868  11.278909   9.559905   7.704857   5.713764   3.586627  \n3  24.345357  24.015780  23.649809  23.247443  22.808681  22.333525  \n4   0.000000   0.000000   0.000000   0.000000   0.000000   0.000000  \n\n[5 rows x 101 columns]",
      "text/html": "<div>\n<style scoped>\n    .dataframe tbody tr th:only-of-type {\n        vertical-align: middle;\n    }\n\n    .dataframe tbody tr th {\n        vertical-align: top;\n    }\n\n    .dataframe thead th {\n        text-align: right;\n    }\n</style>\n<table border=\"1\" class=\"dataframe\">\n  <thead>\n    <tr style=\"text-align: right;\">\n      <th></th>\n      <th>gameid</th>\n      <th>playid</th>\n      <th>team</th>\n      <th>x</th>\n      <th>y</th>\n      <th>s</th>\n      <th>a</th>\n      <th>dis</th>\n      <th>orientation</th>\n      <th>dir</th>\n      <th>...</th>\n      <th>1_5_sec_y</th>\n      <th>2_sec_y</th>\n      <th>2_5_sec_y</th>\n      <th>3_sec_y</th>\n      <th>3_5_sec_y</th>\n      <th>4_sec_y</th>\n      <th>4_5_sec_y</th>\n      <th>5_sec_y</th>\n      <th>5_5_sec_y</th>\n      <th>6_sec_y</th>\n    </tr>\n  </thead>\n  <tbody>\n    <tr>\n      <th>0</th>\n      <td>2017090700</td>\n      <td>20170907000118</td>\n      <td>away</td>\n      <td>73.91</td>\n      <td>34.84</td>\n      <td>1.69</td>\n      <td>1.13</td>\n      <td>0.40</td>\n      <td>278.01</td>\n      <td>272.82</td>\n      <td>...</td>\n      <td>14.691693</td>\n      <td>12.860163</td>\n      <td>10.746476</td>\n      <td>8.350631</td>\n      <td>5.672628</td>\n      <td>2.712467</td>\n      <td>0.000000</td>\n      <td>0.000000</td>\n      <td>0.000000</td>\n      <td>0.000000</td>\n    </tr>\n    <tr>\n      <th>1</th>\n      <td>2017090700</td>\n      <td>20170907000118</td>\n      <td>away</td>\n      <td>74.67</td>\n      <td>32.64</td>\n      <td>0.42</td>\n      <td>1.35</td>\n      <td>0.01</td>\n      <td>332.39</td>\n      <td>251.30</td>\n      <td>...</td>\n      <td>18.658015</td>\n      <td>17.340209</td>\n      <td>15.702719</td>\n      <td>13.745546</td>\n      <td>11.468689</td>\n      <td>8.872149</td>\n      <td>5.955925</td>\n      <td>2.720018</td>\n      <td>0.000000</td>\n      <td>0.000000</td>\n    </tr>\n    <tr>\n      <th>2</th>\n      <td>2017090700</td>\n      <td>20170907000118</td>\n      <td>away</td>\n      <td>74.00</td>\n      <td>33.20</td>\n      <td>1.22</td>\n      <td>0.59</td>\n      <td>0.31</td>\n      <td>356.99</td>\n      <td>247.27</td>\n      <td>...</td>\n      <td>17.833258</td>\n      <td>16.794477</td>\n      <td>15.619652</td>\n      <td>14.308782</td>\n      <td>12.861868</td>\n      <td>11.278909</td>\n      <td>9.559905</td>\n      <td>7.704857</td>\n      <td>5.713764</td>\n      <td>3.586627</td>\n    </tr>\n    <tr>\n      <th>3</th>\n      <td>2017090700</td>\n      <td>20170907000118</td>\n      <td>away</td>\n      <td>71.46</td>\n      <td>27.70</td>\n      <td>0.42</td>\n      <td>0.54</td>\n      <td>0.02</td>\n      <td>0.23</td>\n      <td>344.36</td>\n      <td>...</td>\n      <td>25.299713</td>\n      <td>25.115716</td>\n      <td>24.895325</td>\n      <td>24.638538</td>\n      <td>24.345357</td>\n      <td>24.015780</td>\n      <td>23.649809</td>\n      <td>23.247443</td>\n      <td>22.808681</td>\n      <td>22.333525</td>\n    </tr>\n    <tr>\n      <th>4</th>\n      <td>2017090700</td>\n      <td>20170907000118</td>\n      <td>away</td>\n      <td>69.32</td>\n      <td>35.42</td>\n      <td>1.82</td>\n      <td>2.43</td>\n      <td>0.16</td>\n      <td>347.37</td>\n      <td>285.69</td>\n      <td>...</td>\n      <td>12.653168</td>\n      <td>9.730052</td>\n      <td>6.222072</td>\n      <td>2.129228</td>\n      <td>0.000000</td>\n      <td>0.000000</td>\n      <td>0.000000</td>\n      <td>0.000000</td>\n      <td>0.000000</td>\n      <td>0.000000</td>\n    </tr>\n  </tbody>\n</table>\n<p>5 rows × 101 columns</p>\n</div>"
     },
     "metadata": {},
     "execution_count": 33
    }
   ],
   "source": []
  },
  {
   "cell_type": "markdown",
   "metadata": {},
   "source": [
    "#### indicate if defender is blocked - To be determined"
   ]
  },
  {
   "cell_type": "code",
   "execution_count": null,
   "metadata": {},
   "outputs": [],
   "source": []
  },
  {
   "cell_type": "markdown",
   "metadata": {},
   "source": [
    "#### offense dummy variable"
   ]
  },
  {
   "cell_type": "code",
   "execution_count": 40,
   "metadata": {},
   "outputs": [],
   "source": [
    "#### # offense dummy variable\n",
    "# 1 = offense, 0 = defense\n",
    "data['offense'] = 0\n",
    "data[\"offense\"][data[\"possessionteam\"] == data[\"teamidentity\"]]=1 "
   ]
  },
  {
   "cell_type": "markdown",
   "metadata": {},
   "source": [
    "#### effective directional acceleration"
   ]
  },
  {
   "cell_type": "code",
   "execution_count": 41,
   "metadata": {},
   "outputs": [],
   "source": [
    "def eff_df_acc(df):\n",
    "    '''\n",
    "    input: dataframe\n",
    "    calculates: x component of acceleration\n",
    "    returns: x component\n",
    "    positive -> left to right\n",
    "    negative -> right to left\n",
    "    '''\n",
    "    downfield_acc = df['a'] * math.cos(math.radians(df['dir']))\n",
    "    return downfield_acc\n",
    "\n",
    "# effective crossfield accleration\n",
    "def eff_cf_acc(df):\n",
    "    '''\n",
    "    input: dataframe\n",
    "    calculates: y component of acceleration\n",
    "    returns: y component\n",
    "    positive -> up toward \"far sideline\"\n",
    "    negative -> down toward \"near sideline\"\n",
    "    '''\n",
    "    crossfield_acc = df['a'] * math.sin(math.radians(df['dir']))\n",
    "    return crossfield_acc\n",
    "p = Pool(os.cpu_count())\n",
    "data['eff_downfield_acc'] = data.apply(eff_df_acc, axis = 1)\n",
    "p.close()\n",
    "p.join()\n",
    "p = Pool(os.cpu_count())\n",
    "data['eff_crossfield_acc'] = data.apply(eff_cf_acc, axis = 1)\n",
    "p.close()\n",
    "p.join()"
   ]
  },
  {
   "cell_type": "markdown",
   "metadata": {},
   "source": [
    "#### is team winning"
   ]
  },
  {
   "cell_type": "code",
   "execution_count": 42,
   "metadata": {},
   "outputs": [],
   "source": [
    "def rushteamwinning(df):\n",
    "    if df['possessionteam'] == df['hometeamabbr']:\n",
    "        if df['homescorebeforeplay'] > df['visitorscorebeforeplay']:\n",
    "            return 1\n",
    "        else:\n",
    "            return 0\n",
    "    if df['possessionteam'] == df['visitorteamabbr']:\n",
    "        if df['visitorscorebeforeplay'] > df['homescorebeforeplay']:\n",
    "            return 1\n",
    "        else:\n",
    "            return 0\n",
    "data[\"rushteamwinning\"] = data.apply(rushteamwinning,axis=1)"
   ]
  },
  {
   "cell_type": "markdown",
   "metadata": {},
   "source": [
    "#### playersBlocked"
   ]
  },
  {
   "cell_type": "code",
   "execution_count": null,
   "metadata": {},
   "outputs": [],
   "source": [
    "def playerBlocked(x):\n",
    "    # generate players distance from everyone\n",
    "    # player's coordinates\n",
    "    player_x = x.x_handoff\n",
    "    player_y = x.y_handoff\n",
    "    # get play id\n",
    "    playid = x[\"playid\"]\n",
    "    # grab df from data table with matching play id\n",
    "    distance_df = data[data[\"playid\"] == playid]\n",
    "    # remove offense players\n",
    "    distance_df = distance_df[data[\"offense\"] != 1]\n",
    "    # add distance to dataframe column\n",
    "    distance_df[\"euc_distance\"] = np.sqrt((player_x - distance_df[\"x_handoff\"])**2 + (player_y - distance_df[\"y_handoff\"])**2)\n",
    "    # if any of the distances have 1 or less, return 1\n",
    "    distance_df = distance_df[distance_df[\"euc_distance\"]<=1]\n",
    "    if len(distance_df.index.values == 0):\n",
    "        return 0\n",
    "    else:\n",
    "        return 1"
   ]
  },
  {
   "cell_type": "code",
   "execution_count": null,
   "metadata": {},
   "outputs": [],
   "source": [
    "data[\"playerblocked\"] = data.apply(playerBlocked,axis=1)"
   ]
  },
  {
   "cell_type": "code",
   "execution_count": null,
   "metadata": {},
   "outputs": [],
   "source": [
    "def sumPlayersBlocked(x):\n",
    "    df = data[data[\"playid\"] == x[\"playid\"]]\n",
    "    return df[\"playerblocked\"].sum()\n",
    "playersBlockedLookup = data.drop_duplicates(subset=[\"playid\"])\n",
    "playersBlockedLookup[\"total_playersblocked\"] = data.apply(sumPlayersBlocked,axis=1)\n",
    "data = data.merge(playersBlockedLookup[['playid','total_playersblocked']],on='playid', how='left')"
   ]
  },
  {
   "cell_type": "code",
   "execution_count": null,
   "metadata": {},
   "outputs": [],
   "source": [
    "# dump file to pickle storage\n",
    "data.to_pickle('data.pkl')"
   ]
  }
 ],
 "metadata": {
  "language_info": {
   "codemirror_mode": {
    "name": "ipython",
    "version": 3
   },
   "file_extension": ".py",
   "mimetype": "text/x-python",
   "name": "python",
   "nbconvert_exporter": "python",
   "pygments_lexer": "ipython3",
   "version": "3.7.6-final"
  },
  "orig_nbformat": 2,
  "kernelspec": {
   "name": "python3",
   "display_name": "Python 3"
  }
 },
 "nbformat": 4,
 "nbformat_minor": 2
}